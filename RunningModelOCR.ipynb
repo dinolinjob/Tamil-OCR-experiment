{
 "cells": [
  {
   "cell_type": "code",
   "execution_count": 3,
   "metadata": {},
   "outputs": [
    {
     "name": "stdout",
     "output_type": "stream",
     "text": [
      "[[1]]\n",
      "[[1]\n",
      " [1]]\n",
      "[1]\n",
      "1\n"
     ]
    }
   ],
   "source": [
    "from keras.models import load_model\n",
    "from keras.preprocessing import image\n",
    "import numpy as np\n",
    "\n",
    "\n",
    "img_width, img_height = 28, 28\n",
    "\n",
    "# load the model we saved\n",
    "model = load_model('/home/dinolin/Tamil OCR Project/modelOCR.h5')\n",
    "model.compile(loss='binary_crossentropy',\n",
    "              optimizer='rmsprop',\n",
    "              metrics=['accuracy'])\n",
    "\n",
    "# predicting images\n",
    "img = image.load_img('/home/dinolin/test1.jpg', target_size=(img_width, img_height))\n",
    "x = image.img_to_array(img)\n",
    "x = np.expand_dims(x, axis=0)\n",
    "\n",
    "images = np.vstack([x])\n",
    "classes = model.predict_classes(images, batch_size=10)\n",
    "print(classes)\n",
    "\n",
    "# predicting multiple images at once\n",
    "img = image.load_img('/home/dinolin/test2.jpg', target_size=(img_width, img_height,3))\n",
    "y = image.img_to_array(img)\n",
    "y = np.expand_dims(y, axis=0)\n",
    "\n",
    "# pass the list of multiple images np.vstack()\n",
    "images = np.vstack([x, y])\n",
    "classes = model.predict_classes(images, batch_size=10)\n",
    "\n",
    "# print the classes, the images belong to\n",
    "print(classes)\n",
    "print(classes[0])\n",
    "print(classes[0][0])\n"
   ]
  },
  {
   "cell_type": "code",
   "execution_count": null,
   "metadata": {},
   "outputs": [],
   "source": []
  }
 ],
 "metadata": {
  "kernelspec": {
   "display_name": "Python 3",
   "language": "python",
   "name": "python3"
  },
  "language_info": {
   "codemirror_mode": {
    "name": "ipython",
    "version": 3
   },
   "file_extension": ".py",
   "mimetype": "text/x-python",
   "name": "python",
   "nbconvert_exporter": "python",
   "pygments_lexer": "ipython3",
   "version": "3.6.5"
  }
 },
 "nbformat": 4,
 "nbformat_minor": 2
}
